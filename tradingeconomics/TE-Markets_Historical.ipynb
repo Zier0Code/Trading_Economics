{
 "cells": [
  {
   "cell_type": "code",
   "execution_count": 1,
   "id": "30d768ca",
   "metadata": {},
   "outputs": [],
   "source": [
    "import tradingeconomics as te"
   ]
  },
  {
   "cell_type": "code",
   "execution_count": 2,
   "id": "2494d5ac",
   "metadata": {},
   "outputs": [
    {
     "data": {
      "text/plain": [
       "'You are logged in as a 51a072f89c934bd:l011saq3ckgd3ka'"
      ]
     },
     "execution_count": 2,
     "metadata": {},
     "output_type": "execute_result"
    }
   ],
   "source": [
    "te.login(\"51a072f89c934bd:l011saq3ckgd3ka\")"
   ]
  },
  {
   "cell_type": "markdown",
   "id": "f9ee71d0",
   "metadata": {},
   "source": [
    "### To get historical to symbol\n",
    "\n"
   ]
  },
  {
   "cell_type": "code",
   "execution_count": 3,
   "id": "845e3df2",
   "metadata": {},
   "outputs": [
    {
     "data": {
      "text/html": [
       "<div>\n",
       "<style scoped>\n",
       "    .dataframe tbody tr th:only-of-type {\n",
       "        vertical-align: middle;\n",
       "    }\n",
       "\n",
       "    .dataframe tbody tr th {\n",
       "        vertical-align: top;\n",
       "    }\n",
       "\n",
       "    .dataframe thead th {\n",
       "        text-align: right;\n",
       "    }\n",
       "</style>\n",
       "<table border=\"1\" class=\"dataframe\">\n",
       "  <thead>\n",
       "    <tr style=\"text-align: right;\">\n",
       "      <th></th>\n",
       "      <th>Symbol</th>\n",
       "      <th>Date</th>\n",
       "      <th>Open</th>\n",
       "      <th>High</th>\n",
       "      <th>Low</th>\n",
       "      <th>Close</th>\n",
       "    </tr>\n",
       "  </thead>\n",
       "  <tbody>\n",
       "    <tr>\n",
       "      <th>0</th>\n",
       "      <td>Free accounts have access to the following cou...</td>\n",
       "      <td>26/11/2022</td>\n",
       "      <td>None</td>\n",
       "      <td>None</td>\n",
       "      <td>None</td>\n",
       "      <td>None</td>\n",
       "    </tr>\n",
       "  </tbody>\n",
       "</table>\n",
       "</div>"
      ],
      "text/plain": [
       "                                              Symbol        Date  Open  High  \\\n",
       "0  Free accounts have access to the following cou...  26/11/2022  None  None   \n",
       "\n",
       "    Low Close  \n",
       "0  None  None  "
      ]
     },
     "execution_count": 3,
     "metadata": {},
     "output_type": "execute_result"
    }
   ],
   "source": [
    "te.getHistorical(symbol='aapl:us',output_type='df')\n"
   ]
  },
  {
   "cell_type": "markdown",
   "id": "593f80f7",
   "metadata": {},
   "source": [
    "### To get historical to multiple symbols\n",
    "\n"
   ]
  },
  {
   "cell_type": "code",
   "execution_count": 4,
   "id": "16094e5d",
   "metadata": {},
   "outputs": [
    {
     "data": {
      "text/html": [
       "<div>\n",
       "<style scoped>\n",
       "    .dataframe tbody tr th:only-of-type {\n",
       "        vertical-align: middle;\n",
       "    }\n",
       "\n",
       "    .dataframe tbody tr th {\n",
       "        vertical-align: top;\n",
       "    }\n",
       "\n",
       "    .dataframe thead th {\n",
       "        text-align: right;\n",
       "    }\n",
       "</style>\n",
       "<table border=\"1\" class=\"dataframe\">\n",
       "  <thead>\n",
       "    <tr style=\"text-align: right;\">\n",
       "      <th></th>\n",
       "      <th>Symbol</th>\n",
       "      <th>Date</th>\n",
       "      <th>Open</th>\n",
       "      <th>High</th>\n",
       "      <th>Low</th>\n",
       "      <th>Close</th>\n",
       "    </tr>\n",
       "  </thead>\n",
       "  <tbody>\n",
       "    <tr>\n",
       "      <th>0</th>\n",
       "      <td>Free accounts have access to the following cou...</td>\n",
       "      <td>26/11/2022</td>\n",
       "      <td>None</td>\n",
       "      <td>None</td>\n",
       "      <td>None</td>\n",
       "      <td>None</td>\n",
       "    </tr>\n",
       "  </tbody>\n",
       "</table>\n",
       "</div>"
      ],
      "text/plain": [
       "                                              Symbol        Date  Open  High  \\\n",
       "0  Free accounts have access to the following cou...  26/11/2022  None  None   \n",
       "\n",
       "    Low Close  \n",
       "0  None  None  "
      ]
     },
     "execution_count": 4,
     "metadata": {},
     "output_type": "execute_result"
    }
   ],
   "source": [
    "te.getHistorical(symbol=['aapl:us','gac:com'],output_type='df')"
   ]
  },
  {
   "cell_type": "markdown",
   "id": "ca115563",
   "metadata": {},
   "source": [
    "### To get historical market data for specific symbol and time range:\n",
    "\n"
   ]
  },
  {
   "cell_type": "code",
   "execution_count": 5,
   "id": "ede82fb9",
   "metadata": {},
   "outputs": [
    {
     "data": {
      "text/plain": [
       "[{'Symbol': 'Free accounts have access to the following countries: Mexico, New Zealand, Sweden, Thailand. For more, contact us at support@tradingeconomics.com.',\n",
       "  'Date': '26/11/2022',\n",
       "  'Open': None,\n",
       "  'High': None,\n",
       "  'Low': None,\n",
       "  'Close': None}]"
      ]
     },
     "execution_count": 5,
     "metadata": {},
     "output_type": "execute_result"
    }
   ],
   "source": [
    "te.fetchMarkets(symbol='aapl:us', initDate='2017-01-01', endDate='2017-06-15')"
   ]
  },
  {
   "cell_type": "markdown",
   "id": "454546c7",
   "metadata": {},
   "source": [
    "### To get historical market data for multiple symbols and specific time range:"
   ]
  },
  {
   "cell_type": "code",
   "execution_count": 6,
   "id": "2b57e883",
   "metadata": {},
   "outputs": [
    {
     "data": {
      "text/plain": [
       "[{'Symbol': 'Free accounts have access to the following countries: Mexico, New Zealand, Sweden, Thailand. For more, contact us at support@tradingeconomics.com.',\n",
       "  'Date': '26/11/2022',\n",
       "  'Open': None,\n",
       "  'High': None,\n",
       "  'Low': None,\n",
       "  'Close': None}]"
      ]
     },
     "execution_count": 6,
     "metadata": {},
     "output_type": "execute_result"
    }
   ],
   "source": [
    " te.fetchMarkets(symbol=['aapl:us', 'gac:com'], initDate='2017-01-01', endDate='2017-06-15')\n"
   ]
  }
 ],
 "metadata": {
  "kernelspec": {
   "display_name": "Python 3 (ipykernel)",
   "language": "python",
   "name": "python3"
  },
  "language_info": {
   "codemirror_mode": {
    "name": "ipython",
    "version": 3
   },
   "file_extension": ".py",
   "mimetype": "text/x-python",
   "name": "python",
   "nbconvert_exporter": "python",
   "pygments_lexer": "ipython3",
   "version": "3.9.12"
  }
 },
 "nbformat": 4,
 "nbformat_minor": 5
}
