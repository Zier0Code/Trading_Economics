{
 "cells": [
  {
   "cell_type": "code",
   "execution_count": 3,
   "id": "0608867a",
   "metadata": {},
   "outputs": [],
   "source": [
    "import tradingeconomics as te\n",
    "import json\n"
   ]
  },
  {
   "cell_type": "code",
   "execution_count": 2,
   "id": "a0c514e2",
   "metadata": {},
   "outputs": [
    {
     "data": {
      "text/plain": [
       "'You are logged in as a 51a072f89c934bd:l011saq3ckgd3ka'"
      ]
     },
     "execution_count": 2,
     "metadata": {},
     "output_type": "execute_result"
    }
   ],
   "source": [
    "te.login(\"51a072f89c934bd:l011saq3ckgd3ka\")"
   ]
  },
  {
   "cell_type": "code",
   "execution_count": null,
   "id": "f8d498f7",
   "metadata": {},
   "outputs": [
    {
     "name": "stdout",
     "output_type": "stream",
     "text": [
      "You are subscribed to:['calendar']\n"
     ]
    },
    {
     "name": "stderr",
     "output_type": "stream",
     "text": [
      "--- request header ---\n",
      "GET /?client=51a072f89c934bd:l011saq3ckgd3ka&app=python&token=20171116 HTTP/1.1\n",
      "Upgrade: websocket\n",
      "Host: stream.tradingeconomics.com\n",
      "Origin: http://stream.tradingeconomics.com\n",
      "Sec-WebSocket-Key: httUcTgJkbKs0xgRDu2V/g==\n",
      "Sec-WebSocket-Version: 13\n",
      "Connection: Upgrade\n",
      "\n",
      "\n",
      "-----------------------\n",
      "--- response header ---\n",
      "HTTP/1.1 401 Unauthorized\n",
      "Date: Sat, 26 Nov 2022 03:26:05 GMT\n",
      "Content-Type: text/html\n",
      "Content-Length: 12\n",
      "Connection: keep-alive\n",
      "Set-Cookie: AWSALB=EZO9K0e/XRsnvKSVtfZCPG4Zajih/myp6Y1cFDAEa07W8N7sqYYfDEs5vVuuEVkB9o8oPBQs3A0KFYSkLw+vUqlU+NnItE6orjhPN/epFSVcDjG0ty6agx+TOniI; Expires=Sat, 03 Dec 2022 03:26:05 GMT; Path=/\n",
      "Set-Cookie: AWSALBCORS=EZO9K0e/XRsnvKSVtfZCPG4Zajih/myp6Y1cFDAEa07W8N7sqYYfDEs5vVuuEVkB9o8oPBQs3A0KFYSkLw+vUqlU+NnItE6orjhPN/epFSVcDjG0ty6agx+TOniI; Expires=Sat, 03 Dec 2022 03:26:05 GMT; Path=/; SameSite=None; Secure\n",
      "-----------------------\n"
     ]
    },
    {
     "name": "stdout",
     "output_type": "stream",
     "text": [
      "Handshake status 401 Unauthorized\n",
      "### closed ### reconnect in 60 seconds\n"
     ]
    },
    {
     "name": "stderr",
     "output_type": "stream",
     "text": [
      "--- request header ---\n",
      "GET /?client=51a072f89c934bd:l011saq3ckgd3ka&app=python&token=20171116 HTTP/1.1\n",
      "Upgrade: websocket\n",
      "Host: stream.tradingeconomics.com\n",
      "Origin: http://stream.tradingeconomics.com\n",
      "Sec-WebSocket-Key: AwRvZm5c9fO/2RiY3oCalw==\n",
      "Sec-WebSocket-Version: 13\n",
      "Connection: Upgrade\n",
      "\n",
      "\n",
      "-----------------------\n",
      "--- response header ---\n",
      "HTTP/1.1 401 Unauthorized\n",
      "Date: Sat, 26 Nov 2022 03:27:06 GMT\n",
      "Content-Type: text/html\n",
      "Content-Length: 12\n",
      "Connection: keep-alive\n",
      "Set-Cookie: AWSALB=T80Zr/ZoIscoOMHXfocZ95O/zO1kFz/xWfrAmXm+pl+RGq6zaUvKbtIpbp2FdulZGLDJzkKb9UfX90adsm+4ptwDBzjCGfZy/AunKjGCsGJvjgwwNZQRlRuXr1m6; Expires=Sat, 03 Dec 2022 03:27:06 GMT; Path=/\n",
      "Set-Cookie: AWSALBCORS=T80Zr/ZoIscoOMHXfocZ95O/zO1kFz/xWfrAmXm+pl+RGq6zaUvKbtIpbp2FdulZGLDJzkKb9UfX90adsm+4ptwDBzjCGfZy/AunKjGCsGJvjgwwNZQRlRuXr1m6; Expires=Sat, 03 Dec 2022 03:27:06 GMT; Path=/; SameSite=None; Secure\n",
      "-----------------------\n"
     ]
    },
    {
     "name": "stdout",
     "output_type": "stream",
     "text": [
      "Handshake status 401 Unauthorized\n",
      "### closed ### reconnect in 60 seconds\n"
     ]
    },
    {
     "name": "stderr",
     "output_type": "stream",
     "text": [
      "--- request header ---\n",
      "GET /?client=51a072f89c934bd:l011saq3ckgd3ka&app=python&token=20171116 HTTP/1.1\n",
      "Upgrade: websocket\n",
      "Host: stream.tradingeconomics.com\n",
      "Origin: http://stream.tradingeconomics.com\n",
      "Sec-WebSocket-Key: ohBYVzOuWkjenuM3XoMTlg==\n",
      "Sec-WebSocket-Version: 13\n",
      "Connection: Upgrade\n",
      "\n",
      "\n",
      "-----------------------\n",
      "--- response header ---\n",
      "HTTP/1.1 401 Unauthorized\n",
      "Date: Sat, 26 Nov 2022 03:28:07 GMT\n",
      "Content-Type: text/html\n",
      "Content-Length: 12\n",
      "Connection: keep-alive\n",
      "Set-Cookie: AWSALB=FbQqDp0Iywd9zYcdRr2i/ww+oWpJpKvdL2gtKyc/9uP6JOsQ1zJ+WuK/iSTseAIy5cQORqMG40zKQWpYoAffDKL9QRo/MBtD9X6hLN6yCrRFyGKka6jzKCW5zrll; Expires=Sat, 03 Dec 2022 03:28:07 GMT; Path=/\n",
      "Set-Cookie: AWSALBCORS=FbQqDp0Iywd9zYcdRr2i/ww+oWpJpKvdL2gtKyc/9uP6JOsQ1zJ+WuK/iSTseAIy5cQORqMG40zKQWpYoAffDKL9QRo/MBtD9X6hLN6yCrRFyGKka6jzKCW5zrll; Expires=Sat, 03 Dec 2022 03:28:07 GMT; Path=/; SameSite=None; Secure\n",
      "-----------------------\n"
     ]
    },
    {
     "name": "stdout",
     "output_type": "stream",
     "text": [
      "Handshake status 401 Unauthorized\n",
      "### closed ### reconnect in 60 seconds\n"
     ]
    },
    {
     "name": "stderr",
     "output_type": "stream",
     "text": [
      "--- request header ---\n",
      "GET /?client=51a072f89c934bd:l011saq3ckgd3ka&app=python&token=20171116 HTTP/1.1\n",
      "Upgrade: websocket\n",
      "Host: stream.tradingeconomics.com\n",
      "Origin: http://stream.tradingeconomics.com\n",
      "Sec-WebSocket-Key: FFkXs5FHZwEUilELdtL2WQ==\n",
      "Sec-WebSocket-Version: 13\n",
      "Connection: Upgrade\n",
      "\n",
      "\n",
      "-----------------------\n",
      "--- response header ---\n",
      "HTTP/1.1 401 Unauthorized\n",
      "Date: Sat, 26 Nov 2022 03:29:08 GMT\n",
      "Content-Type: text/html\n",
      "Content-Length: 12\n",
      "Connection: keep-alive\n",
      "Set-Cookie: AWSALB=pg/RPFMKVyfWA0dl2a/Fr4brLRTwJTIfatuAhXtjsTMvaDoSsdadK+UVwToN6KK5sIQ+IhKBeMr/WxKGHNMIFJjx5aTFJGiMid8vi9Oo7Ieh70QavHpqxtrUyBwO; Expires=Sat, 03 Dec 2022 03:29:08 GMT; Path=/\n",
      "Set-Cookie: AWSALBCORS=pg/RPFMKVyfWA0dl2a/Fr4brLRTwJTIfatuAhXtjsTMvaDoSsdadK+UVwToN6KK5sIQ+IhKBeMr/WxKGHNMIFJjx5aTFJGiMid8vi9Oo7Ieh70QavHpqxtrUyBwO; Expires=Sat, 03 Dec 2022 03:29:08 GMT; Path=/; SameSite=None; Secure\n",
      "-----------------------\n"
     ]
    },
    {
     "name": "stdout",
     "output_type": "stream",
     "text": [
      "Handshake status 401 Unauthorized\n",
      "### closed ### reconnect in 60 seconds\n"
     ]
    },
    {
     "name": "stderr",
     "output_type": "stream",
     "text": [
      "--- request header ---\n",
      "GET /?client=51a072f89c934bd:l011saq3ckgd3ka&app=python&token=20171116 HTTP/1.1\n",
      "Upgrade: websocket\n",
      "Host: stream.tradingeconomics.com\n",
      "Origin: http://stream.tradingeconomics.com\n",
      "Sec-WebSocket-Key: 1ayofkyzXU8XfHdPh53+kg==\n",
      "Sec-WebSocket-Version: 13\n",
      "Connection: Upgrade\n",
      "\n",
      "\n",
      "-----------------------\n",
      "--- response header ---\n",
      "HTTP/1.1 401 Unauthorized\n",
      "Date: Sat, 26 Nov 2022 03:30:09 GMT\n",
      "Content-Type: text/html\n",
      "Content-Length: 12\n",
      "Connection: keep-alive\n",
      "Set-Cookie: AWSALB=ufVAlib1FbS1lSmCON38qQeDd4DpqF4Gp09mlRmphIyNs5F7pbky4iYae5Daii9b23pYapi6mMvZc7s/p1r+H9/VBf8T0WsFGJc2vJDLYu4WLIqvj2Dhmfggd5Jp; Expires=Sat, 03 Dec 2022 03:30:09 GMT; Path=/\n",
      "Set-Cookie: AWSALBCORS=ufVAlib1FbS1lSmCON38qQeDd4DpqF4Gp09mlRmphIyNs5F7pbky4iYae5Daii9b23pYapi6mMvZc7s/p1r+H9/VBf8T0WsFGJc2vJDLYu4WLIqvj2Dhmfggd5Jp; Expires=Sat, 03 Dec 2022 03:30:09 GMT; Path=/; SameSite=None; Secure\n",
      "-----------------------\n"
     ]
    },
    {
     "name": "stdout",
     "output_type": "stream",
     "text": [
      "Handshake status 401 Unauthorized\n",
      "### closed ### reconnect in 60 seconds\n"
     ]
    },
    {
     "name": "stderr",
     "output_type": "stream",
     "text": [
      "--- request header ---\n",
      "GET /?client=51a072f89c934bd:l011saq3ckgd3ka&app=python&token=20171116 HTTP/1.1\n",
      "Upgrade: websocket\n",
      "Host: stream.tradingeconomics.com\n",
      "Origin: http://stream.tradingeconomics.com\n",
      "Sec-WebSocket-Key: v5OFIOVt9MNhtJq/5dH7vQ==\n",
      "Sec-WebSocket-Version: 13\n",
      "Connection: Upgrade\n",
      "\n",
      "\n",
      "-----------------------\n",
      "--- response header ---\n",
      "HTTP/1.1 401 Unauthorized\n",
      "Date: Sat, 26 Nov 2022 03:31:10 GMT\n",
      "Content-Type: text/html\n",
      "Content-Length: 12\n",
      "Connection: keep-alive\n",
      "Set-Cookie: AWSALB=aiV5aoiVi7dpFqOVf1H8LIIMroyGp96tUk2g8pyiDEFvsIQgyYyvnk9gDrRTfIWD467G1AmKrC8ve0dYVqFbKnkh0R2a7p0Jk7vInnn4jpc71jcksMzVWdkQNYRL; Expires=Sat, 03 Dec 2022 03:31:10 GMT; Path=/\n",
      "Set-Cookie: AWSALBCORS=aiV5aoiVi7dpFqOVf1H8LIIMroyGp96tUk2g8pyiDEFvsIQgyYyvnk9gDrRTfIWD467G1AmKrC8ve0dYVqFbKnkh0R2a7p0Jk7vInnn4jpc71jcksMzVWdkQNYRL; Expires=Sat, 03 Dec 2022 03:31:10 GMT; Path=/; SameSite=None; Secure\n",
      "-----------------------\n"
     ]
    },
    {
     "name": "stdout",
     "output_type": "stream",
     "text": [
      "Handshake status 401 Unauthorized\n",
      "### closed ### reconnect in 60 seconds\n"
     ]
    },
    {
     "name": "stderr",
     "output_type": "stream",
     "text": [
      "--- request header ---\n",
      "GET /?client=51a072f89c934bd:l011saq3ckgd3ka&app=python&token=20171116 HTTP/1.1\n",
      "Upgrade: websocket\n",
      "Host: stream.tradingeconomics.com\n",
      "Origin: http://stream.tradingeconomics.com\n",
      "Sec-WebSocket-Key: 7CzPmPmyVuLlCW5EkaCKkw==\n",
      "Sec-WebSocket-Version: 13\n",
      "Connection: Upgrade\n",
      "\n",
      "\n",
      "-----------------------\n",
      "--- response header ---\n",
      "HTTP/1.1 401 Unauthorized\n",
      "Date: Sat, 26 Nov 2022 03:32:11 GMT\n",
      "Content-Type: text/html\n",
      "Content-Length: 12\n",
      "Connection: keep-alive\n",
      "Set-Cookie: AWSALB=m8su+seu9AUgRattwVErNHk0zRZQw4kRZkA/Vmn630DC+6e3N4OYA9TXoZYeJfXmraiGBnCLZdeOJYdJGeJUHn1pGwUFO0JxFi2Ae7iZVvcyaH61iD6tElu98bSM; Expires=Sat, 03 Dec 2022 03:32:11 GMT; Path=/\n",
      "Set-Cookie: AWSALBCORS=m8su+seu9AUgRattwVErNHk0zRZQw4kRZkA/Vmn630DC+6e3N4OYA9TXoZYeJfXmraiGBnCLZdeOJYdJGeJUHn1pGwUFO0JxFi2Ae7iZVvcyaH61iD6tElu98bSM; Expires=Sat, 03 Dec 2022 03:32:11 GMT; Path=/; SameSite=None; Secure\n",
      "-----------------------\n"
     ]
    },
    {
     "name": "stdout",
     "output_type": "stream",
     "text": [
      "Handshake status 401 Unauthorized\n",
      "### closed ### reconnect in 60 seconds\n"
     ]
    },
    {
     "name": "stderr",
     "output_type": "stream",
     "text": [
      "--- request header ---\n",
      "GET /?client=51a072f89c934bd:l011saq3ckgd3ka&app=python&token=20171116 HTTP/1.1\n",
      "Upgrade: websocket\n",
      "Host: stream.tradingeconomics.com\n",
      "Origin: http://stream.tradingeconomics.com\n",
      "Sec-WebSocket-Key: b4riB+xgJ0euD/YP5DKN+Q==\n",
      "Sec-WebSocket-Version: 13\n",
      "Connection: Upgrade\n",
      "\n",
      "\n",
      "-----------------------\n",
      "--- response header ---\n",
      "HTTP/1.1 401 Unauthorized\n",
      "Date: Sat, 26 Nov 2022 03:33:12 GMT\n",
      "Content-Type: text/html\n",
      "Content-Length: 12\n",
      "Connection: keep-alive\n",
      "Set-Cookie: AWSALB=eIrfUoRrbufas2X25q2WJZJ8FzJB7fQMPLH54dVe0O8a/faVMwJx6R7wmfGhfHb/jYCOAFIvgMCEIMb4qqjkSDJuosq7YOcUcLLi+Dvn+qK4xicYGJ+68kxwEXY2; Expires=Sat, 03 Dec 2022 03:33:12 GMT; Path=/\n",
      "Set-Cookie: AWSALBCORS=eIrfUoRrbufas2X25q2WJZJ8FzJB7fQMPLH54dVe0O8a/faVMwJx6R7wmfGhfHb/jYCOAFIvgMCEIMb4qqjkSDJuosq7YOcUcLLi+Dvn+qK4xicYGJ+68kxwEXY2; Expires=Sat, 03 Dec 2022 03:33:12 GMT; Path=/; SameSite=None; Secure\n",
      "-----------------------\n"
     ]
    },
    {
     "name": "stdout",
     "output_type": "stream",
     "text": [
      "Handshake status 401 Unauthorized\n",
      "### closed ### reconnect in 60 seconds\n"
     ]
    },
    {
     "name": "stderr",
     "output_type": "stream",
     "text": [
      "--- request header ---\n",
      "GET /?client=51a072f89c934bd:l011saq3ckgd3ka&app=python&token=20171116 HTTP/1.1\n",
      "Upgrade: websocket\n",
      "Host: stream.tradingeconomics.com\n",
      "Origin: http://stream.tradingeconomics.com\n",
      "Sec-WebSocket-Key: ERLsncXVirJgMoF7R982GQ==\n",
      "Sec-WebSocket-Version: 13\n",
      "Connection: Upgrade\n",
      "\n",
      "\n",
      "-----------------------\n",
      "--- response header ---\n",
      "HTTP/1.1 401 Unauthorized\n",
      "Date: Sat, 26 Nov 2022 03:34:13 GMT\n",
      "Content-Type: text/html\n",
      "Content-Length: 12\n",
      "Connection: keep-alive\n",
      "Set-Cookie: AWSALB=UKVtP8VXF+0UTr/ieRBOT6tHlcGHNogDz1fwZvA/3G2ZPfPuDcvnFGzZuopQDolEQ66B1J9SkYGr8F+kK3LhPEGYKIMBbLu+Neh2cAHoranGDRVMTeHSBOPqT25r; Expires=Sat, 03 Dec 2022 03:34:13 GMT; Path=/\n",
      "Set-Cookie: AWSALBCORS=UKVtP8VXF+0UTr/ieRBOT6tHlcGHNogDz1fwZvA/3G2ZPfPuDcvnFGzZuopQDolEQ66B1J9SkYGr8F+kK3LhPEGYKIMBbLu+Neh2cAHoranGDRVMTeHSBOPqT25r; Expires=Sat, 03 Dec 2022 03:34:13 GMT; Path=/; SameSite=None; Secure\n",
      "-----------------------\n"
     ]
    },
    {
     "name": "stdout",
     "output_type": "stream",
     "text": [
      "Handshake status 401 Unauthorized\n",
      "### closed ### reconnect in 60 seconds\n"
     ]
    },
    {
     "name": "stderr",
     "output_type": "stream",
     "text": [
      "--- request header ---\n",
      "GET /?client=51a072f89c934bd:l011saq3ckgd3ka&app=python&token=20171116 HTTP/1.1\n",
      "Upgrade: websocket\n",
      "Host: stream.tradingeconomics.com\n",
      "Origin: http://stream.tradingeconomics.com\n",
      "Sec-WebSocket-Key: l6LqnFXMydumt+aEGAWSJQ==\n",
      "Sec-WebSocket-Version: 13\n",
      "Connection: Upgrade\n",
      "\n",
      "\n",
      "-----------------------\n",
      "--- response header ---\n",
      "HTTP/1.1 401 Unauthorized\n",
      "Date: Sat, 26 Nov 2022 03:35:15 GMT\n",
      "Content-Type: text/html\n",
      "Content-Length: 12\n",
      "Connection: keep-alive\n",
      "Set-Cookie: AWSALB=T6ZPRaiUkOWGqVfEGG57QFhd5p4NdJoV5BN37WdmqgR3UVKaZoAJSZkXVSSeLVja39Tj6PyDKgVUkI27imR3dlOjaffn/OS4/A995MgLjvzjEGTrO14kmTMHSofg; Expires=Sat, 03 Dec 2022 03:35:15 GMT; Path=/\n",
      "Set-Cookie: AWSALBCORS=T6ZPRaiUkOWGqVfEGG57QFhd5p4NdJoV5BN37WdmqgR3UVKaZoAJSZkXVSSeLVja39Tj6PyDKgVUkI27imR3dlOjaffn/OS4/A995MgLjvzjEGTrO14kmTMHSofg; Expires=Sat, 03 Dec 2022 03:35:15 GMT; Path=/; SameSite=None; Secure\n",
      "-----------------------\n"
     ]
    },
    {
     "name": "stdout",
     "output_type": "stream",
     "text": [
      "Handshake status 401 Unauthorized\n",
      "### closed ### reconnect in 60 seconds\n"
     ]
    },
    {
     "name": "stderr",
     "output_type": "stream",
     "text": [
      "--- request header ---\n",
      "GET /?client=51a072f89c934bd:l011saq3ckgd3ka&app=python&token=20171116 HTTP/1.1\n",
      "Upgrade: websocket\n",
      "Host: stream.tradingeconomics.com\n",
      "Origin: http://stream.tradingeconomics.com\n",
      "Sec-WebSocket-Key: KnG22RxWdxK2TAcGzVLh3g==\n",
      "Sec-WebSocket-Version: 13\n",
      "Connection: Upgrade\n",
      "\n",
      "\n",
      "-----------------------\n",
      "--- response header ---\n",
      "HTTP/1.1 401 Unauthorized\n",
      "Date: Sat, 26 Nov 2022 03:36:16 GMT\n",
      "Content-Type: text/html\n",
      "Content-Length: 12\n",
      "Connection: keep-alive\n",
      "Set-Cookie: AWSALB=nDsCZQPKT/DaJutT68JwQB469TKTkxkAXCREBXBwKwtjcaP/cpTLtuVT8rbKEz/Tn7oZVMPvEIOCJNhFOKqz47lShGMvamBGhYMB6rOhNylupJ5Xx68vJbXgQpGD; Expires=Sat, 03 Dec 2022 03:36:16 GMT; Path=/\n",
      "Set-Cookie: AWSALBCORS=nDsCZQPKT/DaJutT68JwQB469TKTkxkAXCREBXBwKwtjcaP/cpTLtuVT8rbKEz/Tn7oZVMPvEIOCJNhFOKqz47lShGMvamBGhYMB6rOhNylupJ5Xx68vJbXgQpGD; Expires=Sat, 03 Dec 2022 03:36:16 GMT; Path=/; SameSite=None; Secure\n",
      "-----------------------\n"
     ]
    },
    {
     "name": "stdout",
     "output_type": "stream",
     "text": [
      "Handshake status 401 Unauthorized\n",
      "### closed ### reconnect in 60 seconds\n"
     ]
    },
    {
     "name": "stderr",
     "output_type": "stream",
     "text": [
      "--- request header ---\n",
      "GET /?client=51a072f89c934bd:l011saq3ckgd3ka&app=python&token=20171116 HTTP/1.1\n",
      "Upgrade: websocket\n",
      "Host: stream.tradingeconomics.com\n",
      "Origin: http://stream.tradingeconomics.com\n",
      "Sec-WebSocket-Key: yc60hUZDTK9lPh6x0dO6OQ==\n",
      "Sec-WebSocket-Version: 13\n",
      "Connection: Upgrade\n",
      "\n",
      "\n",
      "-----------------------\n",
      "--- response header ---\n",
      "HTTP/1.1 401 Unauthorized\n",
      "Date: Sat, 26 Nov 2022 03:37:17 GMT\n",
      "Content-Type: text/html\n",
      "Content-Length: 12\n",
      "Connection: keep-alive\n",
      "Set-Cookie: AWSALB=pgnxNGBy8EpShf1wiY/Ftekb7s2+XIy9tRxbFWOavqYAAFyNQa4oyO2CGk5MnmsNKs4oKgkvyxmgf+cjGJcUaDTRDaPiG0bxelv4ruKyeSKhG/4RfEceqOfb2Rr6; Expires=Sat, 03 Dec 2022 03:37:17 GMT; Path=/\n",
      "Set-Cookie: AWSALBCORS=pgnxNGBy8EpShf1wiY/Ftekb7s2+XIy9tRxbFWOavqYAAFyNQa4oyO2CGk5MnmsNKs4oKgkvyxmgf+cjGJcUaDTRDaPiG0bxelv4ruKyeSKhG/4RfEceqOfb2Rr6; Expires=Sat, 03 Dec 2022 03:37:17 GMT; Path=/; SameSite=None; Secure\n",
      "-----------------------\n"
     ]
    },
    {
     "name": "stdout",
     "output_type": "stream",
     "text": [
      "Handshake status 401 Unauthorized\n",
      "### closed ### reconnect in 60 seconds\n"
     ]
    },
    {
     "name": "stderr",
     "output_type": "stream",
     "text": [
      "--- request header ---\n",
      "GET /?client=51a072f89c934bd:l011saq3ckgd3ka&app=python&token=20171116 HTTP/1.1\n",
      "Upgrade: websocket\n",
      "Host: stream.tradingeconomics.com\n",
      "Origin: http://stream.tradingeconomics.com\n",
      "Sec-WebSocket-Key: LEx6SSq3XVu9k2m3h4iRPw==\n",
      "Sec-WebSocket-Version: 13\n",
      "Connection: Upgrade\n",
      "\n",
      "\n",
      "-----------------------\n",
      "--- response header ---\n",
      "HTTP/1.1 401 Unauthorized\n",
      "Date: Sat, 26 Nov 2022 03:38:18 GMT\n",
      "Content-Type: text/html\n",
      "Content-Length: 12\n",
      "Connection: keep-alive\n",
      "Set-Cookie: AWSALB=JA0PhsgitRGZV6QUe7+nTGUwlw8XX6YJkCK19qVj8sHKEPHfPVuxKB4NmvHugwWKWfa3DQhYKqBCla597ANlRbDeFa6n3tWC0+JS3iXrZ/6heL1FDm/KNp7+U8aC; Expires=Sat, 03 Dec 2022 03:38:18 GMT; Path=/\n",
      "Set-Cookie: AWSALBCORS=JA0PhsgitRGZV6QUe7+nTGUwlw8XX6YJkCK19qVj8sHKEPHfPVuxKB4NmvHugwWKWfa3DQhYKqBCla597ANlRbDeFa6n3tWC0+JS3iXrZ/6heL1FDm/KNp7+U8aC; Expires=Sat, 03 Dec 2022 03:38:18 GMT; Path=/; SameSite=None; Secure\n",
      "-----------------------\n"
     ]
    },
    {
     "name": "stdout",
     "output_type": "stream",
     "text": [
      "Handshake status 401 Unauthorized\n",
      "### closed ### reconnect in 60 seconds\n"
     ]
    },
    {
     "name": "stderr",
     "output_type": "stream",
     "text": [
      "--- request header ---\n",
      "GET /?client=51a072f89c934bd:l011saq3ckgd3ka&app=python&token=20171116 HTTP/1.1\n",
      "Upgrade: websocket\n",
      "Host: stream.tradingeconomics.com\n",
      "Origin: http://stream.tradingeconomics.com\n",
      "Sec-WebSocket-Key: uK3kBhp3doyYFDCoKXN1DQ==\n",
      "Sec-WebSocket-Version: 13\n",
      "Connection: Upgrade\n",
      "\n",
      "\n",
      "-----------------------\n",
      "--- response header ---\n",
      "HTTP/1.1 401 Unauthorized\n",
      "Date: Sat, 26 Nov 2022 03:39:19 GMT\n",
      "Content-Type: text/html\n",
      "Content-Length: 12\n",
      "Connection: keep-alive\n",
      "Set-Cookie: AWSALB=rABHWLts7LBxRNMGXfBEANnpS9fW2vo2yCjyxG3XqvuP0D2uGLtSyaRhTRYEZsJnbEUUIPiGnevfV6WNl4HEBDSfLjx5pS0l3080WDlKfrnGssYZpNZs8AhS1k3q; Expires=Sat, 03 Dec 2022 03:39:19 GMT; Path=/\n",
      "Set-Cookie: AWSALBCORS=rABHWLts7LBxRNMGXfBEANnpS9fW2vo2yCjyxG3XqvuP0D2uGLtSyaRhTRYEZsJnbEUUIPiGnevfV6WNl4HEBDSfLjx5pS0l3080WDlKfrnGssYZpNZs8AhS1k3q; Expires=Sat, 03 Dec 2022 03:39:19 GMT; Path=/; SameSite=None; Secure\n",
      "-----------------------\n"
     ]
    },
    {
     "name": "stdout",
     "output_type": "stream",
     "text": [
      "Handshake status 401 Unauthorized\n",
      "### closed ### reconnect in 60 seconds\n"
     ]
    },
    {
     "name": "stderr",
     "output_type": "stream",
     "text": [
      "--- request header ---\n",
      "GET /?client=51a072f89c934bd:l011saq3ckgd3ka&app=python&token=20171116 HTTP/1.1\n",
      "Upgrade: websocket\n",
      "Host: stream.tradingeconomics.com\n",
      "Origin: http://stream.tradingeconomics.com\n",
      "Sec-WebSocket-Key: tWR4ozWpIKLhGxmoasyn5A==\n",
      "Sec-WebSocket-Version: 13\n",
      "Connection: Upgrade\n",
      "\n",
      "\n",
      "-----------------------\n",
      "--- response header ---\n",
      "HTTP/1.1 401 Unauthorized\n",
      "Date: Sat, 26 Nov 2022 03:40:20 GMT\n",
      "Content-Type: text/html\n",
      "Content-Length: 12\n",
      "Connection: keep-alive\n",
      "Set-Cookie: AWSALB=6y9PYlsUvoCiz/9hgyJdLrRUOLp3gQoFfJGF4YAfkcgnL+Rg/7LFKrWjJOANUDn353hI9zbotE9QpmEilg1dIsiYNfiYbeC8J3XcHoSGiINxIbdbQWRRNjp2sDua; Expires=Sat, 03 Dec 2022 03:40:20 GMT; Path=/\n",
      "Set-Cookie: AWSALBCORS=6y9PYlsUvoCiz/9hgyJdLrRUOLp3gQoFfJGF4YAfkcgnL+Rg/7LFKrWjJOANUDn353hI9zbotE9QpmEilg1dIsiYNfiYbeC8J3XcHoSGiINxIbdbQWRRNjp2sDua; Expires=Sat, 03 Dec 2022 03:40:20 GMT; Path=/; SameSite=None; Secure\n",
      "-----------------------\n"
     ]
    },
    {
     "name": "stdout",
     "output_type": "stream",
     "text": [
      "Handshake status 401 Unauthorized\n",
      "### closed ### reconnect in 60 seconds\n"
     ]
    }
   ],
   "source": [
    "def on_message(ws, message):\n",
    "  print(json.loads(message))\n",
    "\n",
    "te.subscribe('calendar')\n",
    "te.run(on_message)"
   ]
  },
  {
   "cell_type": "code",
   "execution_count": null,
   "id": "e5d25b5a",
   "metadata": {},
   "outputs": [],
   "source": []
  }
 ],
 "metadata": {
  "kernelspec": {
   "display_name": "Python 3 (ipykernel)",
   "language": "python",
   "name": "python3"
  },
  "language_info": {
   "codemirror_mode": {
    "name": "ipython",
    "version": 3
   },
   "file_extension": ".py",
   "mimetype": "text/x-python",
   "name": "python",
   "nbconvert_exporter": "python",
   "pygments_lexer": "ipython3",
   "version": "3.9.12"
  }
 },
 "nbformat": 4,
 "nbformat_minor": 5
}
